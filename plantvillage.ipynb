{
 "cells": [
  {
   "cell_type": "code",
   "execution_count": 2,
   "metadata": {},
   "outputs": [],
   "source": [
    "import os\n",
    "import time\n",
    "import numpy as np\n",
    "import torch\n",
    "import torch.nn as nn\n",
    "import torch.nn.functional as F\n",
    "from torch.utils.data import DataLoader, Dataset\n",
    "from torchvision import datasets, models, transforms\n",
    "from torchinfo import summary\n",
    "import matplotlib.pyplot as plt"
   ]
  },
  {
   "cell_type": "code",
   "execution_count": 3,
   "metadata": {},
   "outputs": [
    {
     "name": "stdout",
     "output_type": "stream",
     "text": [
      "./data/plantvillage/\n"
     ]
    }
   ],
   "source": [
    "device = torch.device('cuda' if torch.cuda.is_available() else 'cpu')\n",
    "data_dir = './data/plantvillage/'\n",
    "print(data_dir)"
   ]
  },
  {
   "cell_type": "code",
   "execution_count": 4,
   "metadata": {},
   "outputs": [
    {
     "name": "stdout",
     "output_type": "stream",
     "text": [
      "Number of Classes: 38\n",
      "Data set class names: \n",
      "['Apple___Apple_scab', 'Apple___Black_rot', 'Apple___Cedar_apple_rust', 'Apple___healthy', 'Blueberry___healthy', 'Cherry_(including_sour)___Powdery_mildew', 'Cherry_(including_sour)___healthy', 'Corn_(maize)___Cercospora_leaf_spot Gray_leaf_spot', 'Corn_(maize)___Common_rust_', 'Corn_(maize)___Northern_Leaf_Blight', 'Corn_(maize)___healthy', 'Grape___Black_rot', 'Grape___Esca_(Black_Measles)', 'Grape___Leaf_blight_(Isariopsis_Leaf_Spot)', 'Grape___healthy', 'Orange___Haunglongbing_(Citrus_greening)', 'Peach___Bacterial_spot', 'Peach___healthy', 'Pepper,_bell___Bacterial_spot', 'Pepper,_bell___healthy', 'Potato___Early_blight', 'Potato___Late_blight', 'Potato___healthy', 'Raspberry___healthy', 'Soybean___healthy', 'Squash___Powdery_mildew', 'Strawberry___Leaf_scorch', 'Strawberry___healthy', 'Tomato___Bacterial_spot', 'Tomato___Early_blight', 'Tomato___Late_blight', 'Tomato___Leaf_Mold', 'Tomato___Septoria_leaf_spot', 'Tomato___Spider_mites Two-spotted_spider_mite', 'Tomato___Target_Spot', 'Tomato___Tomato_Yellow_Leaf_Curl_Virus', 'Tomato___Tomato_mosaic_virus', 'Tomato___healthy']\n"
     ]
    }
   ],
   "source": [
    "image_datasets = datasets.ImageFolder(root=data_dir)\n",
    "class_names = image_datasets.classes\n",
    "print(f'Number of Classes: {len(class_names)}\\nData set class names: \\n{class_names}')"
   ]
  },
  {
   "cell_type": "code",
   "execution_count": 49,
   "metadata": {},
   "outputs": [
    {
     "name": "stdout",
     "output_type": "stream",
     "text": [
      "Apple___Apple_scab --> 630\n",
      "Apple___Black_rot --> 621\n",
      "Apple___Cedar_apple_rust --> 275\n",
      "Apple___healthy --> 1645\n",
      "Blueberry___healthy --> 1502\n",
      "Cherry_(including_sour)___healthy --> 854\n",
      "Cherry_(including_sour)___Powdery_mildew --> 1052\n",
      "Corn_(maize)___Cercospora_leaf_spot Gray_leaf_spot --> 513\n",
      "Corn_(maize)___Common_rust_ --> 1192\n",
      "Corn_(maize)___healthy --> 1162\n",
      "Corn_(maize)___Northern_Leaf_Blight --> 985\n",
      "Grape___Black_rot --> 1180\n",
      "Grape___Esca_(Black_Measles) --> 1383\n",
      "Grape___healthy --> 423\n",
      "Grape___Leaf_blight_(Isariopsis_Leaf_Spot) --> 1076\n",
      "Orange___Haunglongbing_(Citrus_greening) --> 5507\n",
      "Peach___Bacterial_spot --> 2297\n",
      "Peach___healthy --> 360\n",
      "Pepper,_bell___Bacterial_spot --> 997\n",
      "Pepper,_bell___healthy --> 1478\n",
      "Potato___Early_blight --> 1000\n",
      "Potato___healthy --> 152\n",
      "Potato___Late_blight --> 1000\n",
      "Raspberry___healthy --> 371\n",
      "Soybean___healthy --> 5090\n",
      "Squash___Powdery_mildew --> 1835\n",
      "Strawberry___healthy --> 456\n",
      "Strawberry___Leaf_scorch --> 1109\n",
      "Tomato___Bacterial_spot --> 2127\n",
      "Tomato___Early_blight --> 1000\n",
      "Tomato___healthy --> 1591\n",
      "Tomato___Late_blight --> 1909\n",
      "Tomato___Leaf_Mold --> 952\n",
      "Tomato___Septoria_leaf_spot --> 1771\n",
      "Tomato___Spider_mites Two-spotted_spider_mite --> 1676\n",
      "Tomato___Target_Spot --> 1404\n",
      "Tomato___Tomato_mosaic_virus --> 373\n",
      "Tomato___Tomato_Yellow_Leaf_Curl_Virus --> 5357\n"
     ]
    },
    {
     "data": {
      "text/plain": [
       "<BarContainer object of 38 artists>"
      ]
     },
     "execution_count": 49,
     "metadata": {},
     "output_type": "execute_result"
    },
    {
     "data": {
      "image/png": "[encoded data removed]",
      "text/plain": [
       "<Figure size 640x480 with 1 Axes>"
      ]
     },
     "metadata": {},
     "output_type": "display_data"
    }
   ],
   "source": [
    "import os\n",
    "data_path = \"./data/plantvillage/\"\n",
    "name = []\n",
    "count = []\n",
    "for labels in os.listdir(data_path):\n",
    "    \n",
    "    full_labels = os.path.join(data_path, labels)\n",
    "    label_len = len(os.listdir(full_labels))\n",
    "    name.append(labels)\n",
    "    count.append(label_len)\n",
    "    print (f\"{labels} --> {label_len}\")\n",
    "plt.bar(name, count)"
   ]
  },
  {
   "cell_type": "markdown",
   "metadata": {},
   "source": [
    "- Class Weight\n",
    "- Thresholding"
   ]
  },
  {
   "cell_type": "code",
   "execution_count": 5,
   "metadata": {},
   "outputs": [
    {
     "name": "stdout",
     "output_type": "stream",
     "text": [
      "No of train: 43445 | No of val: 5430 | No of test: 5430 | \n"
     ]
    }
   ],
   "source": [
    "train, val, test = torch.utils.data.random_split(image_datasets, [0.8, 0.1, 0.1])\n",
    "print(f'No of train: {len(train)} | No of val: {len(val)} | No of test: {len(test)} | ')"
   ]
  },
  {
   "cell_type": "code",
   "execution_count": 6,
   "metadata": {},
   "outputs": [],
   "source": [
    "# data transforms\n",
    "mean = np.array([0.485, 0.456, 0.406])\n",
    "std = np.array([0.229, 0.224, 0.225])\n",
    "data_transformer = {\n",
    "\t'train':\n",
    "\t\ttransforms.Compose([\n",
    "\t\ttransforms.RandomResizedCrop(248),\n",
    "\t\ttransforms.RandomHorizontalFlip(),\n",
    "\t\ttransforms.ToTensor(),\n",
    "\t\ttransforms.Normalize(mean, std)\n",
    "\t]),\n",
    "\t'val':\n",
    "\t\ttransforms.Compose([\n",
    "\t\ttransforms.CenterCrop(248),\n",
    "\t\ttransforms.ToTensor(),\n",
    "\t\ttransforms.Normalize(mean, std)\n",
    "\t])\n",
    "}\n",
    "transform = transforms.ToTensor()"
   ]
  },
  {
   "cell_type": "code",
   "execution_count": 7,
   "metadata": {},
   "outputs": [],
   "source": [
    "\n",
    "class PlantVillageDataset(Dataset):\n",
    "\tdef __init__(self, datasets, transform=None):\n",
    "\t\tself.dataset = datasets\n",
    "\t\tself.transform = transform\n",
    "\t\t\n",
    "\tdef __getitem__(self, index):\n",
    "\t\tif self.transform:\n",
    "\t\t\tx = self.transform(self.dataset[index][0])\n",
    "\t\telse:\n",
    "\t\t\tx = self.dataset[index][0]\n",
    "\t\ty = self.dataset[index][1]\n",
    "\t\treturn x, y\n",
    "\n",
    "\tdef __len__(self):\n",
    "\t\treturn len(self.dataset)"
   ]
  },
  {
   "cell_type": "code",
   "execution_count": 8,
   "metadata": {},
   "outputs": [],
   "source": [
    "class ConvNet(nn.Module):\n",
    "\tdef __init__(self):\n",
    "\t\tsuper(ConvNet, self).__init__()\n",
    "\t\tself.dropout = nn.Dropout(0.2)\n",
    "\t\tself.conv1 = nn.Conv2d(in_channels=3, out_channels=6, kernel_size=5)\n",
    "\t\tself.pool = nn.MaxPool2d(kernel_size=2, stride=2)\n",
    "\t\tself.conv2 = nn.Conv2d(in_channels=6, out_channels=16, kernel_size=5)\n",
    "\t\tself.fc1 = nn.Linear(59536, 120)   # (n + 2p -f)/s + 1\n",
    "\t\tself.fc2 = nn.Linear(120, 84)        \n",
    "\t\tself.fc3 = nn.Linear(84, 38)    \n",
    "\t\t\t\n",
    "\tdef forward(self, x):\n",
    "\t\tout = self.pool(F.relu(self.conv1(x)))\n",
    "\t\tout = self.pool(F.relu(self.conv2(out)))\n",
    "\t\tout = out.view(-1, 59536)\n",
    "\t\tout = F.relu(self.fc1(out))\n",
    "\t\tout = self.dropout(out)\n",
    "\t\tout = F.relu(self.fc2(out))\n",
    "\t\tout = self.fc3(out)\n",
    "\t\treturn out\n",
    "\t\n",
    "model = ConvNet().to(device)"
   ]
  },
  {
   "cell_type": "code",
   "execution_count": 9,
   "metadata": {},
   "outputs": [
    {
     "data": {
      "text/plain": [
       "(tensor([[[ 0.3823,  0.3823,  0.3823,  ...,  0.3652,  0.3652,  0.3652],\n",
       "          [ 0.3823,  0.3823,  0.3823,  ...,  0.3309,  0.3309,  0.3481],\n",
       "          [ 0.3823,  0.3823,  0.3823,  ...,  0.3138,  0.3138,  0.3309],\n",
       "          ...,\n",
       "          [-0.3712, -0.3369, -0.2856,  ...,  0.0227,  0.0056, -0.0458],\n",
       "          [-0.4054, -0.4397, -0.4054,  ..., -0.0287, -0.0458, -0.0801],\n",
       "          [-0.4226, -0.5082, -0.5082,  ..., -0.0801, -0.0972, -0.1314]],\n",
       " \n",
       "         [[ 0.5378,  0.5378,  0.5378,  ...,  0.5028,  0.5028,  0.5028],\n",
       "          [ 0.5203,  0.5203,  0.5203,  ...,  0.4853,  0.4853,  0.5028],\n",
       "          [ 0.5203,  0.5203,  0.5203,  ...,  0.4853,  0.4853,  0.5028],\n",
       "          ...,\n",
       "          [-0.2150, -0.1800, -0.1275,  ...,  0.6954,  0.6604,  0.5903],\n",
       "          [-0.2500, -0.2850, -0.2500,  ...,  0.6429,  0.6078,  0.5553],\n",
       "          [-0.2675, -0.3550, -0.3550,  ...,  0.5903,  0.5553,  0.5028]],\n",
       " \n",
       "         [[ 0.6705,  0.6705,  0.6705,  ...,  0.7228,  0.7228,  0.7228],\n",
       "          [ 0.6879,  0.6879,  0.6879,  ...,  0.7054,  0.7054,  0.7054],\n",
       "          [ 0.7054,  0.7054,  0.7054,  ...,  0.6879,  0.6879,  0.7054],\n",
       "          ...,\n",
       "          [-0.0790, -0.0441,  0.0082,  ..., -1.1247, -1.1073, -1.1247],\n",
       "          [-0.1138, -0.1487, -0.1138,  ..., -1.1770, -1.1421, -1.1073],\n",
       "          [-0.1312, -0.2184, -0.2184,  ..., -1.2119, -1.1770, -1.1247]]]),\n",
       " 15)"
      ]
     },
     "execution_count": 9,
     "metadata": {},
     "output_type": "execute_result"
    }
   ],
   "source": [
    "train_data = PlantVillageDataset(train, data_transformer['train'])\n",
    "val_data = PlantVillageDataset(val, data_transformer['val'])\n",
    "test_data = PlantVillageDataset(test, transform)\n",
    "# for i in range(6):\n",
    "#     plt.subplot(2,3, i+1)\n",
    "#     plt.imshow(train_data[i][0], cmap='grey')\n",
    "#     print(f'{i} is class {train_data[i][1]}')\n",
    "# plt.show()\n",
    "x, y = train_data[0]\n",
    "x, y"
   ]
  },
  {
   "cell_type": "code",
   "execution_count": 10,
   "metadata": {},
   "outputs": [],
   "source": [
    "#hyperparameters\n",
    "n_input_size = 248*248*3\n",
    "n_hidden_size = 10\n",
    "n_classes = 38\n",
    "n_epochs = 1\n",
    "batch_size = 1\n",
    "learning_rate = 0.001"
   ]
  },
  {
   "cell_type": "code",
   "execution_count": 11,
   "metadata": {},
   "outputs": [],
   "source": [
    "train_data_loader = DataLoader(train_data, batch_size=batch_size, shuffle=True, num_workers=2)\n",
    "val_data_loader = DataLoader(val_data, batch_size=batch_size, shuffle=False)\n",
    "test_data_loader = DataLoader(test_data, batch_size=batch_size, shuffle=False)\n",
    "# # for i in range(1):\n",
    "# x = iter(train_data_loader)\n",
    "# next(x)"
   ]
  },
  {
   "cell_type": "code",
   "execution_count": 12,
   "metadata": {},
   "outputs": [
    {
     "name": "stdout",
     "output_type": "stream",
     "text": [
      "=================================================================\n",
      "Layer (type:depth-idx)                   Param #\n",
      "=================================================================\n",
      "ConvNet                                  --\n",
      "├─Dropout: 1-1                           --\n",
      "├─Conv2d: 1-2                            456\n",
      "├─MaxPool2d: 1-3                         --\n",
      "├─Conv2d: 1-4                            2,416\n",
      "├─Linear: 1-5                            7,144,440\n",
      "├─Linear: 1-6                            10,164\n",
      "├─Linear: 1-7                            3,230\n",
      "=================================================================\n",
      "Total params: 7,160,706\n",
      "Trainable params: 7,160,706\n",
      "Non-trainable params: 0\n",
      "=================================================================\n"
     ]
    }
   ],
   "source": [
    "# Loss and optimizer\n",
    "criterion = nn.CrossEntropyLoss()\n",
    "optimizer = torch.optim.SGD(model.parameters(), lr=learning_rate)\n",
    "print(summary(model, batch_dim=batch_size))"
   ]
  },
  {
   "cell_type": "code",
   "execution_count": 13,
   "metadata": {},
   "outputs": [
    {
     "name": "stdout",
     "output_type": "stream",
     "text": [
      "\n",
      " ==============================\n"
     ]
    }
   ],
   "source": [
    "# Training loop\n",
    "start_time = time.time()\n",
    "n_total_steps = len(train_data_loader)\n",
    "losses = []\n",
    "print(f'\\n {\"=\"*30}')\n",
    "for epoch in range(n_epochs):\n",
    "    for i, (images, labels) in enumerate(train_data_loader):\n",
    "        images = images.to(device)\n",
    "        labels = labels.to(device)\n",
    "        \n",
    "        #forward\n",
    "        outputs = model(images)\n",
    "        loss = criterion(outputs, labels)\n",
    "        #backward\n",
    "        optimizer.zero_grad()\n",
    "        loss.backward()\n",
    "        optimizer.step()\n",
    "        \n",
    "    # if(epoch + 1) % 10 == 0:\n",
    "    losses.append(loss.item())\n",
    "    print(f'| Epoch: {epoch+1}/{n_epochs}\\t| Loss: {loss.item():.4f} |')\n",
    "print(f' {\"=\"*30}\\n')\n",
    "end_time = time.time() - start_time\n",
    "#test\n",
    "with torch.no_grad():\n",
    "    n_correct = 0\n",
    "    n_samples = 0\n",
    "    for images, labels in test_data_loader:\n",
    "        images = images.to(device)\n",
    "        labels = labels.to(device)\n",
    "        outputs = model(images)\n",
    "        \n",
    "        _, predictions = torch.max(outputs, 1)\n",
    "        n_samples += labels.shape[0]\n",
    "        n_correct += (predictions == labels).sum().item()\n",
    "    accuracy = n_correct * 100.0 / n_samples\n",
    "    print(f'\\tAccuracy: {accuracy:.2f}%')\n",
    "print(f'\\n {\"=\"*30}\\n')\n",
    "print(f'  Training Time: {end_time/60:.2f} Minute(s)')\n",
    "print(f'\\n {\"=\"*30}\\n')\n",
    "plt.plot(losses)\n",
    "plt.show()"
   ]
  },
  {
   "cell_type": "code",
   "execution_count": null,
   "metadata": {},
   "outputs": [],
   "source": []
  }
 ],
 "metadata": {
  "kernelspec": {
   "display_name": "ML-AI",
   "language": "python",
   "name": "python3"
  },
  "language_info": {
   "codemirror_mode": {
    "name": "ipython",
    "version": 3
   },
   "file_extension": ".py",
   "mimetype": "text/x-python",
   "name": "python",
   "nbconvert_exporter": "python",
   "pygments_lexer": "ipython3",
   "version": "3.12.1"
  }
 },
 "nbformat": 4,
 "nbformat_minor": 2
}
