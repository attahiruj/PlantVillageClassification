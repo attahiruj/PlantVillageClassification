{
 "cells": [
  {
   "cell_type": "code",
   "execution_count": 12,
   "metadata": {},
   "outputs": [],
   "source": [
    "import time\n",
    "import numpy as np\n",
    "import torch\n",
    "import torch.nn as nn\n",
    "import torch.nn.functional as F\n",
    "from torch.utils.data import DataLoader, Dataset\n",
    "from torchvision import datasets, models, transforms\n",
    "from torchinfo import summary\n",
    "import matplotlib.pyplot as plt"
   ]
  },
  {
   "cell_type": "code",
   "execution_count": 13,
   "metadata": {},
   "outputs": [
    {
     "name": "stdout",
     "output_type": "stream",
     "text": [
      "./data/plantvillage/\n"
     ]
    }
   ],
   "source": [
    "device = torch.device('cuda' if torch.cuda.is_available() else 'cpu')\n",
    "data_dir = './data/plantvillage/'\n",
    "print(data_dir)"
   ]
  },
  {
   "cell_type": "code",
   "execution_count": 14,
   "metadata": {},
   "outputs": [
    {
     "name": "stdout",
     "output_type": "stream",
     "text": [
      "Number of Classes: 38\n",
      "Data set class names: \n",
      "['Apple___Apple_scab', 'Apple___Black_rot', 'Apple___Cedar_apple_rust', 'Apple___healthy', 'Blueberry___healthy', 'Cherry_(including_sour)___Powdery_mildew', 'Cherry_(including_sour)___healthy', 'Corn_(maize)___Cercospora_leaf_spot Gray_leaf_spot', 'Corn_(maize)___Common_rust_', 'Corn_(maize)___Northern_Leaf_Blight', 'Corn_(maize)___healthy', 'Grape___Black_rot', 'Grape___Esca_(Black_Measles)', 'Grape___Leaf_blight_(Isariopsis_Leaf_Spot)', 'Grape___healthy', 'Orange___Haunglongbing_(Citrus_greening)', 'Peach___Bacterial_spot', 'Peach___healthy', 'Pepper,_bell___Bacterial_spot', 'Pepper,_bell___healthy', 'Potato___Early_blight', 'Potato___Late_blight', 'Potato___healthy', 'Raspberry___healthy', 'Soybean___healthy', 'Squash___Powdery_mildew', 'Strawberry___Leaf_scorch', 'Strawberry___healthy', 'Tomato___Bacterial_spot', 'Tomato___Early_blight', 'Tomato___Late_blight', 'Tomato___Leaf_Mold', 'Tomato___Septoria_leaf_spot', 'Tomato___Spider_mites Two-spotted_spider_mite', 'Tomato___Target_Spot', 'Tomato___Tomato_Yellow_Leaf_Curl_Virus', 'Tomato___Tomato_mosaic_virus', 'Tomato___healthy']\n"
     ]
    }
   ],
   "source": [
    "image_datasets = datasets.ImageFolder(root=data_dir)\n",
    "class_names = image_datasets.classes\n",
    "print(f'Number of Classes: {len(class_names)}\\nData set class names: \\n{class_names}')"
   ]
  },
  {
   "cell_type": "code",
   "execution_count": 15,
   "metadata": {},
   "outputs": [
    {
     "name": "stdout",
     "output_type": "stream",
     "text": [
      "No of train: 43445 | No of val: 5430 | No of test: 5430 | \n"
     ]
    }
   ],
   "source": [
    "train, val, test = torch.utils.data.random_split(image_datasets, [0.8, 0.1, 0.1])\n",
    "print(f'No of train: {len(train)} | No of val: {len(val)} | No of test: {len(test)} | ')"
   ]
  },
  {
   "cell_type": "code",
   "execution_count": 16,
   "metadata": {},
   "outputs": [],
   "source": [
    "# data transforms\n",
    "mean = np.array([0.485, 0.456, 0.406])\n",
    "std = np.array([0.229, 0.224, 0.225])\n",
    "data_transformer = {\n",
    "\t'train':\n",
    "\t\ttransforms.Compose([\n",
    "\t\ttransforms.RandomResizedCrop(248),\n",
    "\t\ttransforms.RandomHorizontalFlip(),\n",
    "\t\ttransforms.ToTensor(),\n",
    "\t\ttransforms.Normalize(mean, std)\n",
    "\t]),\n",
    "\t'val':\n",
    "\t\ttransforms.Compose([\n",
    "\t\ttransforms.CenterCrop(248),\n",
    "\t\ttransforms.ToTensor(),\n",
    "\t\ttransforms.Normalize(mean, std)\n",
    "\t])\n",
    "}"
   ]
  },
  {
   "cell_type": "code",
   "execution_count": 17,
   "metadata": {},
   "outputs": [],
   "source": [
    "transform = transforms.ToTensor()\n",
    "class PlantVillageDataset(Dataset):\n",
    "\tdef __init__(self, datasets, transform=None):\n",
    "\t\tself.dataset = datasets\n",
    "\t\tself.transform = transform\n",
    "\t\t\n",
    "\tdef __getitem__(self, index):\n",
    "\t\tif self.transform:\n",
    "\t\t\tx = self.transform(self.dataset[index][0])\n",
    "\t\telse:\n",
    "\t\t\tx = self.dataset[index][0]\n",
    "\t\ty = self.dataset[index][1]\n",
    "\t\treturn x, y\n",
    "\n",
    "\tdef __len__(self):\n",
    "\t\treturn len(self.dataset)"
   ]
  },
  {
   "cell_type": "code",
   "execution_count": 31,
   "metadata": {},
   "outputs": [],
   "source": [
    "# loading a pre-trained ResNet-18 model\n",
    "# from the torchvision library with pre-trained weights.\n",
    "model = models.resnet50()\n",
    "summary(model)\n",
    "for param in model.parameters():\n",
    "    param.requires_grad = False"
   ]
  },
  {
   "cell_type": "code",
   "execution_count": 32,
   "metadata": {},
   "outputs": [],
   "source": [
    "train_data = PlantVillageDataset(train, data_transformer['train'])\n",
    "val_data = PlantVillageDataset(val, data_transformer['val'])\n",
    "test_data = PlantVillageDataset(test, transform)\n",
    "# for i in range(6):\n",
    "#     plt.subplot(2,3, i+1)\n",
    "#     plt.imshow(train_data[i][0], cmap='grey')\n",
    "#     print(f'{i} is class {train_data[i][1]}')\n",
    "# plt.show()\n",
    "# x, y = train_data[0]\n",
    "# x, y"
   ]
  },
  {
   "cell_type": "code",
   "execution_count": 33,
   "metadata": {},
   "outputs": [],
   "source": [
    "#hyperparameters\n",
    "n_features = model.fc.in_features\n",
    "n_classes = 38\n",
    "n_epochs = 1\n",
    "batch_size = 1\n",
    "learning_rate = 0.001\n"
   ]
  },
  {
   "cell_type": "code",
   "execution_count": 34,
   "metadata": {},
   "outputs": [],
   "source": [
    "train_data_loader = DataLoader(train_data, batch_size=batch_size, shuffle=True, num_workers=2)\n",
    "val_data_loader = DataLoader(val_data, batch_size=batch_size, shuffle=False)\n",
    "test_data_loader = DataLoader(test_data, batch_size=batch_size, shuffle=False)"
   ]
  },
  {
   "cell_type": "code",
   "execution_count": 41,
   "metadata": {},
   "outputs": [],
   "source": [
    "class PlantNet(nn.Module):\n",
    "\tdef __init__(self):\n",
    "\t\tsuper(PlantNet, self).__init__()\n",
    "\t\tself.dropout = nn.Dropout(0.2)\n",
    "\t\tself.fc1 = nn.Linear(512, 256)\n",
    "\t\tself.fc2 = nn.Linear(256, 128)        \n",
    "\t\tself.fc3 = nn.Linear(128, 38)    \n",
    "\t\t\t\n",
    "\tdef forward(self, x):\n",
    "\t\tout = F.relu(self.fc1(x))\n",
    "\t\tout = self.dropout(out)\n",
    "\t\tout = F.relu(self.fc2(out))\n",
    "\t\tout = self.dropout(out)\n",
    "\t\tout = self.fc3(out)\n",
    "\t\tout = nn.Softmax(out)\n",
    "\t\treturn out"
   ]
  },
  {
   "cell_type": "code",
   "execution_count": 42,
   "metadata": {},
   "outputs": [
    {
     "name": "stdout",
     "output_type": "stream",
     "text": [
      "=================================================================\n",
      "Layer (type:depth-idx)                   Param #\n",
      "=================================================================\n",
      "ResNet                                   --\n",
      "├─Conv2d: 1-1                            (9,408)\n",
      "├─BatchNorm2d: 1-2                       (128)\n",
      "├─ReLU: 1-3                              --\n",
      "├─MaxPool2d: 1-4                         --\n",
      "├─Sequential: 1-5                        --\n",
      "│    └─Bottleneck: 2-1                   --\n",
      "│    │    └─Conv2d: 3-1                  (4,096)\n",
      "│    │    └─BatchNorm2d: 3-2             (128)\n",
      "│    │    └─Conv2d: 3-3                  (36,864)\n",
      "│    │    └─BatchNorm2d: 3-4             (128)\n",
      "│    │    └─Conv2d: 3-5                  (16,384)\n",
      "│    │    └─BatchNorm2d: 3-6             (512)\n",
      "│    │    └─ReLU: 3-7                    --\n",
      "│    │    └─Sequential: 3-8              (16,896)\n",
      "│    └─Bottleneck: 2-2                   --\n",
      "│    │    └─Conv2d: 3-9                  (16,384)\n",
      "│    │    └─BatchNorm2d: 3-10            (128)\n",
      "│    │    └─Conv2d: 3-11                 (36,864)\n",
      "│    │    └─BatchNorm2d: 3-12            (128)\n",
      "│    │    └─Conv2d: 3-13                 (16,384)\n",
      "│    │    └─BatchNorm2d: 3-14            (512)\n",
      "│    │    └─ReLU: 3-15                   --\n",
      "│    └─Bottleneck: 2-3                   --\n",
      "│    │    └─Conv2d: 3-16                 (16,384)\n",
      "│    │    └─BatchNorm2d: 3-17            (128)\n",
      "│    │    └─Conv2d: 3-18                 (36,864)\n",
      "│    │    └─BatchNorm2d: 3-19            (128)\n",
      "│    │    └─Conv2d: 3-20                 (16,384)\n",
      "│    │    └─BatchNorm2d: 3-21            (512)\n",
      "│    │    └─ReLU: 3-22                   --\n",
      "├─Sequential: 1-6                        --\n",
      "│    └─Bottleneck: 2-4                   --\n",
      "│    │    └─Conv2d: 3-23                 (32,768)\n",
      "│    │    └─BatchNorm2d: 3-24            (256)\n",
      "│    │    └─Conv2d: 3-25                 (147,456)\n",
      "│    │    └─BatchNorm2d: 3-26            (256)\n",
      "│    │    └─Conv2d: 3-27                 (65,536)\n",
      "│    │    └─BatchNorm2d: 3-28            (1,024)\n",
      "│    │    └─ReLU: 3-29                   --\n",
      "│    │    └─Sequential: 3-30             (132,096)\n",
      "│    └─Bottleneck: 2-5                   --\n",
      "│    │    └─Conv2d: 3-31                 (65,536)\n",
      "│    │    └─BatchNorm2d: 3-32            (256)\n",
      "│    │    └─Conv2d: 3-33                 (147,456)\n",
      "│    │    └─BatchNorm2d: 3-34            (256)\n",
      "│    │    └─Conv2d: 3-35                 (65,536)\n",
      "│    │    └─BatchNorm2d: 3-36            (1,024)\n",
      "│    │    └─ReLU: 3-37                   --\n",
      "│    └─Bottleneck: 2-6                   --\n",
      "│    │    └─Conv2d: 3-38                 (65,536)\n",
      "│    │    └─BatchNorm2d: 3-39            (256)\n",
      "│    │    └─Conv2d: 3-40                 (147,456)\n",
      "│    │    └─BatchNorm2d: 3-41            (256)\n",
      "│    │    └─Conv2d: 3-42                 (65,536)\n",
      "│    │    └─BatchNorm2d: 3-43            (1,024)\n",
      "│    │    └─ReLU: 3-44                   --\n",
      "│    └─Bottleneck: 2-7                   --\n",
      "│    │    └─Conv2d: 3-45                 (65,536)\n",
      "│    │    └─BatchNorm2d: 3-46            (256)\n",
      "│    │    └─Conv2d: 3-47                 (147,456)\n",
      "│    │    └─BatchNorm2d: 3-48            (256)\n",
      "│    │    └─Conv2d: 3-49                 (65,536)\n",
      "│    │    └─BatchNorm2d: 3-50            (1,024)\n",
      "│    │    └─ReLU: 3-51                   --\n",
      "├─Sequential: 1-7                        --\n",
      "│    └─Bottleneck: 2-8                   --\n",
      "│    │    └─Conv2d: 3-52                 (131,072)\n",
      "│    │    └─BatchNorm2d: 3-53            (512)\n",
      "│    │    └─Conv2d: 3-54                 (589,824)\n",
      "│    │    └─BatchNorm2d: 3-55            (512)\n",
      "│    │    └─Conv2d: 3-56                 (262,144)\n",
      "│    │    └─BatchNorm2d: 3-57            (2,048)\n",
      "│    │    └─ReLU: 3-58                   --\n",
      "│    │    └─Sequential: 3-59             (526,336)\n",
      "│    └─Bottleneck: 2-9                   --\n",
      "│    │    └─Conv2d: 3-60                 (262,144)\n",
      "│    │    └─BatchNorm2d: 3-61            (512)\n",
      "│    │    └─Conv2d: 3-62                 (589,824)\n",
      "│    │    └─BatchNorm2d: 3-63            (512)\n",
      "│    │    └─Conv2d: 3-64                 (262,144)\n",
      "│    │    └─BatchNorm2d: 3-65            (2,048)\n",
      "│    │    └─ReLU: 3-66                   --\n",
      "│    └─Bottleneck: 2-10                  --\n",
      "│    │    └─Conv2d: 3-67                 (262,144)\n",
      "│    │    └─BatchNorm2d: 3-68            (512)\n",
      "│    │    └─Conv2d: 3-69                 (589,824)\n",
      "│    │    └─BatchNorm2d: 3-70            (512)\n",
      "│    │    └─Conv2d: 3-71                 (262,144)\n",
      "│    │    └─BatchNorm2d: 3-72            (2,048)\n",
      "│    │    └─ReLU: 3-73                   --\n",
      "│    └─Bottleneck: 2-11                  --\n",
      "│    │    └─Conv2d: 3-74                 (262,144)\n",
      "│    │    └─BatchNorm2d: 3-75            (512)\n",
      "│    │    └─Conv2d: 3-76                 (589,824)\n",
      "│    │    └─BatchNorm2d: 3-77            (512)\n",
      "│    │    └─Conv2d: 3-78                 (262,144)\n",
      "│    │    └─BatchNorm2d: 3-79            (2,048)\n",
      "│    │    └─ReLU: 3-80                   --\n",
      "│    └─Bottleneck: 2-12                  --\n",
      "│    │    └─Conv2d: 3-81                 (262,144)\n",
      "│    │    └─BatchNorm2d: 3-82            (512)\n",
      "│    │    └─Conv2d: 3-83                 (589,824)\n",
      "│    │    └─BatchNorm2d: 3-84            (512)\n",
      "│    │    └─Conv2d: 3-85                 (262,144)\n",
      "│    │    └─BatchNorm2d: 3-86            (2,048)\n",
      "│    │    └─ReLU: 3-87                   --\n",
      "│    └─Bottleneck: 2-13                  --\n",
      "│    │    └─Conv2d: 3-88                 (262,144)\n",
      "│    │    └─BatchNorm2d: 3-89            (512)\n",
      "│    │    └─Conv2d: 3-90                 (589,824)\n",
      "│    │    └─BatchNorm2d: 3-91            (512)\n",
      "│    │    └─Conv2d: 3-92                 (262,144)\n",
      "│    │    └─BatchNorm2d: 3-93            (2,048)\n",
      "│    │    └─ReLU: 3-94                   --\n",
      "├─Sequential: 1-8                        --\n",
      "│    └─Bottleneck: 2-14                  --\n",
      "│    │    └─Conv2d: 3-95                 (524,288)\n",
      "│    │    └─BatchNorm2d: 3-96            (1,024)\n",
      "│    │    └─Conv2d: 3-97                 (2,359,296)\n",
      "│    │    └─BatchNorm2d: 3-98            (1,024)\n",
      "│    │    └─Conv2d: 3-99                 (1,048,576)\n",
      "│    │    └─BatchNorm2d: 3-100           (4,096)\n",
      "│    │    └─ReLU: 3-101                  --\n",
      "│    │    └─Sequential: 3-102            (2,101,248)\n",
      "│    └─Bottleneck: 2-15                  --\n",
      "│    │    └─Conv2d: 3-103                (1,048,576)\n",
      "│    │    └─BatchNorm2d: 3-104           (1,024)\n",
      "│    │    └─Conv2d: 3-105                (2,359,296)\n",
      "│    │    └─BatchNorm2d: 3-106           (1,024)\n",
      "│    │    └─Conv2d: 3-107                (1,048,576)\n",
      "│    │    └─BatchNorm2d: 3-108           (4,096)\n",
      "│    │    └─ReLU: 3-109                  --\n",
      "│    └─Bottleneck: 2-16                  --\n",
      "│    │    └─Conv2d: 3-110                (1,048,576)\n",
      "│    │    └─BatchNorm2d: 3-111           (1,024)\n",
      "│    │    └─Conv2d: 3-112                (2,359,296)\n",
      "│    │    └─BatchNorm2d: 3-113           (1,024)\n",
      "│    │    └─Conv2d: 3-114                (1,048,576)\n",
      "│    │    └─BatchNorm2d: 3-115           (4,096)\n",
      "│    │    └─ReLU: 3-116                  --\n",
      "├─AdaptiveAvgPool2d: 1-9                 --\n",
      "├─PlantNet: 1-10                         --\n",
      "│    └─Dropout: 2-17                     --\n",
      "│    └─Linear: 2-18                      131,328\n",
      "│    └─Linear: 2-19                      32,896\n",
      "│    └─Linear: 2-20                      4,902\n",
      "=================================================================\n",
      "Total params: 23,677,158\n",
      "Trainable params: 169,126\n",
      "Non-trainable params: 23,508,032\n",
      "=================================================================\n"
     ]
    }
   ],
   "source": [
    "model_appendage = PlantNet().to(device)\n",
    "model.fc = model_appendage\n",
    "model.to(device)\n",
    "# model = torch.nn.DataParallel(model, device_ids = [0,1]).to(device)\n",
    "print(summary(model, batch_dim=batch_size))"
   ]
  },
  {
   "cell_type": "code",
   "execution_count": null,
   "metadata": {},
   "outputs": [],
   "source": [
    "# Loss and optimizer\n",
    "criterion = nn.CrossEntropyLoss()\n",
    "optimizer = torch.optim.SGD(model.parameters(), lr=learning_rate)"
   ]
  },
  {
   "cell_type": "code",
   "execution_count": null,
   "metadata": {},
   "outputs": [],
   "source": []
  },
  {
   "cell_type": "code",
   "execution_count": 13,
   "metadata": {},
   "outputs": [
    {
     "name": "stdout",
     "output_type": "stream",
     "text": [
      "\n",
      " ==============================\n"
     ]
    }
   ],
   "source": [
    "# Training loop\n",
    "start_time = time.time()\n",
    "n_total_steps = len(train_data_loader)\n",
    "losses = []\n",
    "print(f'\\n {\"=\"*30}')\n",
    "for epoch in range(n_epochs):\n",
    "    for i, (images, labels) in enumerate(train_data_loader):\n",
    "        images = images.to(device)\n",
    "        labels = labels.to(device)\n",
    "        \n",
    "        #forward\n",
    "        outputs = model(images)\n",
    "        loss = criterion(outputs, labels)\n",
    "        #backward\n",
    "        optimizer.zero_grad()\n",
    "        loss.backward()\n",
    "        optimizer.step()\n",
    "        \n",
    "    # if(epoch + 1) % 10 == 0:\n",
    "    losses.append(loss.item())\n",
    "    print(f'| Epoch: {epoch+1}/{n_epochs}\\t| Loss: {loss.item():.4f} |')\n",
    "print(f' {\"=\"*30}\\n')\n",
    "end_time = time.time() - start_time\n",
    "#test\n",
    "with torch.no_grad():\n",
    "    n_correct = 0\n",
    "    n_samples = 0\n",
    "    for images, labels in test_data_loader:\n",
    "        images = images.to(device)\n",
    "        labels = labels.to(device)\n",
    "        outputs = model(images)\n",
    "        \n",
    "        _, predictions = torch.max(outputs, 1)\n",
    "        n_samples += labels.shape[0]\n",
    "        n_correct += (predictions == labels).sum().item()\n",
    "    accuracy = n_correct * 100.0 / n_samples\n",
    "    print(f'\\tAccuracy: {accuracy:.2f}%')\n",
    "print(f'\\n {\"=\"*30}\\n')\n",
    "print(f'  Training Time: {end_time/60:.2f} Minute(s)')\n",
    "print(f'\\n {\"=\"*30}\\n')\n",
    "plt.plot(losses)\n",
    "plt.show()"
   ]
  },
  {
   "cell_type": "code",
   "execution_count": null,
   "metadata": {},
   "outputs": [],
   "source": []
  }
 ],
 "metadata": {
  "kernelspec": {
   "display_name": "ML-AI",
   "language": "python",
   "name": "python3"
  },
  "language_info": {
   "codemirror_mode": {
    "name": "ipython",
    "version": 3
   },
   "file_extension": ".py",
   "mimetype": "text/x-python",
   "name": "python",
   "nbconvert_exporter": "python",
   "pygments_lexer": "ipython3",
   "version": "3.12.1"
  }
 },
 "nbformat": 4,
 "nbformat_minor": 2
}
